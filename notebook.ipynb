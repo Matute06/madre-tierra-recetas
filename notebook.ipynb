{
 "cells": [
  {
   "cell_type": "markdown",
   "id": "ab3ddbd3",
   "metadata": {},
   "source": [
    "# Recetario IA – Madre Tierra\n",
    "**Generador de recetas e imágenes (POC)**  \n",
    "Proyecto final — *Madre Tierra*  \n",
    "Autor: Matías Valdez\n",
    "\n",
    "**Resumen:**  \n",
    "Este notebook genera recetas usando un modelo de lenguaje (local / Hugging Face) y propone prompts para generar imágenes ilustrativas (Leonardo/Bing/NightCafe). Incluye 3 recetas ejemplo:  \n",
    "1. Tereré de menta y limón  \n",
    "2. Ensalada de quinoa con albahaca y limón  \n",
    "3. Infusión fría de cedrón y jengibre\n"
   ]
  },
  {
   "cell_type": "markdown",
   "id": "8787f595",
   "metadata": {},
   "source": [
    "## Objetivos\n",
    "- Producir contenido textual (recetas) optimizado con prompts.\n",
    "- Proveer prompts de imagen para ilustrar cada receta.\n",
    "- Documentar el flujo para que el material pueda subirse a GitHub con resultados visibles.\n",
    "\n",
    "**Alcance del POC:** 3 recetas generadas automáticamente (texto) y una imagen de muestra para cada receta (generada con herramientas externas, las imágenes se descargan y se guardan en `images/`).\n"
   ]
  },
  {
   "cell_type": "markdown",
   "id": "8b661c93",
   "metadata": {},
   "source": [
    "## Herramientas y notas técnicas\n",
    "- **Texto (generación):** Hugging Face `transformers` (recomendado: `google/flan-t5-base` o `bigscience/bloomz-560m` si hay GPU o buena conexión).\n",
    "- **Imágenes:** Leonardo.ai / Bing Image Creator / NightCafe (se generan manualmente pegando los prompts que aquí se indican).\n",
    "- **Entorno:** Jupyter Notebook local o Google Colab.\n",
    "- **Carpetas del proyecto:** `notebooks/`, `images/`, `README.md`, `requirements.txt`.\n"
   ]
  },
  {
   "cell_type": "code",
   "execution_count": 4,
   "id": "e4eeb2b1",
   "metadata": {},
   "outputs": [
    {
     "name": "stdout",
     "output_type": "stream",
     "text": [
      "Cargando modelo: google/flan-t5-base\n"
     ]
    },
    {
     "name": "stderr",
     "output_type": "stream",
     "text": [
      "Device set to use cpu\n"
     ]
    },
    {
     "name": "stdout",
     "output_type": "stream",
     "text": [
      "Modelo listo (uso CPU).\n"
     ]
    }
   ],
   "source": [
    "# Celda: Instalar dependencias si hace falta (ejecutar solo la primera vez)\n",
    "# !pip install transformers torch sentencepiece --quiet\n",
    "\n",
    "from transformers import pipeline\n",
    "import os\n",
    "\n",
    "# Elige el modelo (por defecto flan-t5-base — liviano)\n",
    "MODEL_NAME = \"google/flan-t5-base\"\n",
    "\n",
    "print(\"Cargando modelo:\", MODEL_NAME)\n",
    "generator = pipeline(\"text2text-generation\", model=MODEL_NAME, device_map=\"auto\" if False else None)\n",
    "print(\"Modelo listo (uso CPU).\")\n"
   ]
  },
  {
   "cell_type": "code",
   "execution_count": 5,
   "id": "f73c72ce",
   "metadata": {},
   "outputs": [
    {
     "name": "stdout",
     "output_type": "stream",
     "text": [
      "Función lista. Generá usando generar_receta(prompt).\n"
     ]
    }
   ],
   "source": [
    "def generar_receta(prompt, max_new_tokens=180, temperature=0.8):\n",
    "    \"\"\"\n",
    "    Genera receta con el generator cargado (Flan-T5 o similar).\n",
    "    Devuelve texto limpio.\n",
    "    \"\"\"\n",
    "    out = generator(prompt, max_new_tokens=max_new_tokens, do_sample=True, temperature=temperature, truncation=True)\n",
    "    return out[0][\"generated_text\"]\n",
    "\n",
    "# Prompt base (ejemplo)\n",
    "prompt_ejemplo = \"\"\"Eres un chef argentino especializado en bebidas y preparaciones con hierbas.\n",
    "Escribe en español una receta clara y detallada. Incluye:\n",
    "- Título de la receta\n",
    "- Lista de ingredientes con cantidades\n",
    "- Pasos numerados de preparación\n",
    "- Una sugerencia breve de presentación final\n",
    "\"\"\"\n",
    "\n",
    "print(\"Función lista. Generá usando generar_receta(prompt).\")\n"
   ]
  },
  {
   "cell_type": "markdown",
   "id": "32af8d02",
   "metadata": {},
   "source": [
    "## Receta 1 — Tereré de menta y limón\n",
    "(Usa la hierba menta de Madre Tierra para un tereré refrescante)\n"
   ]
  },
  {
   "cell_type": "code",
   "execution_count": 6,
   "id": "3f58f8dd",
   "metadata": {},
   "outputs": [
    {
     "name": "stdout",
     "output_type": "stream",
     "text": [
      "=== TERERÉ DE MENTA Y LIMÓN ===\n",
      "\n",
      "Eres un chef especializado en bebidas naturales y tradicionales del Litoral. Escribe en espaol una receta para preparar TERERÉ con menta y limón.\n"
     ]
    }
   ],
   "source": [
    "prompt_terere = \"\"\"Eres un chef especializado en bebidas naturales y tradicionales del Litoral.\n",
    "Escribe en español una receta para preparar TERERÉ con menta y limón.\n",
    "Incluye:\n",
    "- Título\n",
    "- Ingredientes con cantidades (por 1 litro / 4 porciones)\n",
    "- Pasos numerados de preparación (claros y simples)\n",
    "- Consejos de servicio y presentación (1-2 líneas)\n",
    "\"\"\"\n",
    "\n",
    "receta_terere = generar_receta(prompt_terere)\n",
    "print(\"=== TERERÉ DE MENTA Y LIMÓN ===\\n\")\n",
    "print(receta_terere)\n"
   ]
  },
  {
   "cell_type": "markdown",
   "id": "6fcd1d64",
   "metadata": {},
   "source": [
    "**Prompt recomendado para imagen (cópialo en Leonardo / Bing / NightCafe):**\n",
    "\n",
    "> \"Fotografía realista de un vaso alto con tereré, hojas frescas de menta flotando, rodajas de limón en el vaso, cubitos de hielo, vaso sobre una mesa rústica de madera, luz natural suave, estilo fotográfico publicitario.\"\n",
    "\n",
    "Guardá la imagen como `images/terere_menta_limon.jpg` y posteriormente podés mostrarla aquí.\n"
   ]
  },
  {
   "cell_type": "code",
   "execution_count": 7,
   "id": "9b24e566",
   "metadata": {},
   "outputs": [
    {
     "name": "stdout",
     "output_type": "stream",
     "text": [
      "No se encontró la imagen en: ../images/terere_menta_limon.jpg\n",
      "Genera la imagen con el prompt y guárdala en images/terere_menta_limon.jpg\n"
     ]
    }
   ],
   "source": [
    "from IPython.display import Image, display\n",
    "img_path = \"../images/terere_menta_limon.jpg\"  # ajusta la ruta según tu repo\n",
    "\n",
    "if os.path.exists(img_path):\n",
    "    display(Image(filename=img_path, width=480))\n",
    "else:\n",
    "    print(\"No se encontró la imagen en:\", img_path)\n",
    "    print(\"Genera la imagen con el prompt y guárdala en images/terere_menta_limon.jpg\")\n"
   ]
  },
  {
   "cell_type": "markdown",
   "id": "e07aae31",
   "metadata": {},
   "source": [
    "## Receta 2 — Ensalada de quinoa con albahaca y limón\n",
    "(Plato saludable que incorpora albahaca de Madre Tierra)\n"
   ]
  },
  {
   "cell_type": "code",
   "execution_count": 8,
   "id": "1fce1fe0",
   "metadata": {},
   "outputs": [
    {
     "name": "stdout",
     "output_type": "stream",
     "text": [
      "=== ENSALADA DE QUINOA CON ALBAHACA Y LIMÓN ===\n",
      "\n",
      "Eres un chef mediterráneo con experiencia en recetas saludables. Escribe en espaol una receta para una 'Ensalada de quinoa con albahaca y limón'.\n"
     ]
    }
   ],
   "source": [
    "prompt_ensalada = \"\"\"Eres un chef mediterráneo con experiencia en recetas saludables.\n",
    "Escribe en español una receta para una 'Ensalada de quinoa con albahaca y limón'.\n",
    "Incluye:\n",
    "- Título\n",
    "- Ingredientes con cantidades (para 2-3 porciones)\n",
    "- Pasos numerados de preparación\n",
    "- Sugerencia de presentación/acompañamiento\n",
    "\"\"\"\n",
    "\n",
    "receta_ensalada = generar_receta(prompt_ensalada)\n",
    "print(\"=== ENSALADA DE QUINOA CON ALBAHACA Y LIMÓN ===\\n\")\n",
    "print(receta_ensalada)\n"
   ]
  },
  {
   "cell_type": "markdown",
   "id": "ba3eba5f",
   "metadata": {},
   "source": [
    "**Prompt imagen sugerido:**\n",
    "> \"Fotografía de una ensalada de quinoa en un bowl rústico con hojas de albahaca fresca, gajos de limón, tomates cherry y aceite de oliva brillante, fondo luminoso, estilo lifestyle natural.\"\n"
   ]
  },
  {
   "cell_type": "markdown",
   "id": "96fec636",
   "metadata": {},
   "source": [
    "## Receta 3 — Infusión fría de cedrón y jengibre\n",
    "(Una bebida refrescante e innovadora usando cedrón)\n"
   ]
  },
  {
   "cell_type": "code",
   "execution_count": 9,
   "id": "47bd7fef",
   "metadata": {},
   "outputs": [
    {
     "name": "stdout",
     "output_type": "stream",
     "text": [
      "=== INFUSIÓN FRÍA DE CEDRÓN Y JENGIBRE ===\n",
      "\n",
      "Eres experto en bebidas naturales y teas. Escribe en espaol una receta para una 'Infusión fra de cedrón y jengibre'.\n"
     ]
    }
   ],
   "source": [
    "prompt_infusion = \"\"\"Eres un experto en bebidas naturales y tisanas.\n",
    "Escribe en español una receta para una 'Infusión fría de cedrón y jengibre'.\n",
    "Incluye:\n",
    "- Título\n",
    "- Ingredientes con cantidades (para 1 litro)\n",
    "- Pasos de preparación (incluye macerado y enfriado)\n",
    "- Sugerencia de presentación\n",
    "\"\"\"\n",
    "\n",
    "receta_infusion = generar_receta(prompt_infusion)\n",
    "print(\"=== INFUSIÓN FRÍA DE CEDRÓN Y JENGIBRE ===\\n\")\n",
    "print(receta_infusion)\n"
   ]
  },
  {
   "cell_type": "markdown",
   "id": "fd505e4b",
   "metadata": {},
   "source": [
    "**Prompt imagen sugerido:**\n",
    "> \"Ilustración/ fotografía realista de una jarra de infusión fría con hojas de cedrón flotando y rodajas de jengibre, vaso con hielo, mesa de madera, luz de tarde, estilo veraniego.\"\n"
   ]
  },
  {
   "cell_type": "code",
   "execution_count": 10,
   "id": "f9c80586",
   "metadata": {},
   "outputs": [
    {
     "name": "stdout",
     "output_type": "stream",
     "text": [
      "Recetas guardadas en ../outputs/\n"
     ]
    }
   ],
   "source": [
    "# Guarda las recetas en archivos de texto para incluir en el repo\n",
    "os.makedirs(\"../outputs\", exist_ok=True)\n",
    "with open(\"../outputs/receta_terere.txt\", \"w\", encoding=\"utf-8\") as f:\n",
    "    f.write(receta_terere)\n",
    "with open(\"../outputs/receta_ensalada_quinoa.txt\", \"w\", encoding=\"utf-8\") as f:\n",
    "    f.write(receta_ensalada)\n",
    "with open(\"../outputs/receta_infusion.txt\", \"w\", encoding=\"utf-8\") as f:\n",
    "    f.write(receta_infusion)\n",
    "\n",
    "print(\"Recetas guardadas en ../outputs/\")\n"
   ]
  },
  {
   "cell_type": "markdown",
   "id": "e5d34f94",
   "metadata": {},
   "source": [
    "## Conclusiones y mejoras posibles\n",
    "- El flujo POC logra generar recetas útiles y prompts de imagen listos para usar en generadores gratuitos.\n",
    "- Mejoras: ajustar prompts con few-shot (dar ejemplos breves), probar modelos más grandes (si hay GPU) y crear una pequeña UI para seleccionar hierbas.\n",
    "- Documentar y subir a GitHub: subir notebook ya ejecutado + carpeta `images/` con las ilustraciones finales.\n"
   ]
  }
 ],
 "metadata": {
  "kernelspec": {
   "display_name": "Python 3",
   "language": "python",
   "name": "python3"
  },
  "language_info": {
   "codemirror_mode": {
    "name": "ipython",
    "version": 3
   },
   "file_extension": ".py",
   "mimetype": "text/x-python",
   "name": "python",
   "nbconvert_exporter": "python",
   "pygments_lexer": "ipython3",
   "version": "3.13.7"
  }
 },
 "nbformat": 4,
 "nbformat_minor": 5
}
